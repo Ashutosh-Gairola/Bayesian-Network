{
  "cells": [
    {
      "cell_type": "markdown",
      "metadata": {
        "colab_type": "text",
        "id": "view-in-github"
      },
      "source": [
        "<a href=\"https://colab.research.google.com/github/Ashutosh-Gairola/AAIES/blob/main/Assignment8_bayesian.ipynb\" target=\"_parent\"><img src=\"https://colab.research.google.com/assets/colab-badge.svg\" alt=\"Open In Colab\"/></a>"
      ]
    },
    {
      "cell_type": "markdown",
      "metadata": {
        "id": "5r2msEl9py3R"
      },
      "source": [
        "Using Bayesian network, implement a Python program to calculate probability in disease diagnosis.\n",
        "\n",
        "A medical clinic is trying to determine the probability that a patient has a certain disease. The test which is used to diagnose the disease is not always accurate. The clinic knows that the probability of a false positive is 1%, and the probability of a false negative is 5%. The clinic has a patient who has tested positive for the disease.\n",
        "\n",
        "Knowing that disease occurs in a patient 25% times. They want to use Bayesian Theorem to calculate the probability that the patient actually has the disease. The Bayesian network will consist of two nodes: 'D' (for disease) and 'T' (for test result). conditional probability distributions (CPDs) for the nodes will be based on the provided information\n"
      ]
    },
    {
      "cell_type": "markdown",
      "metadata": {
        "id": "hi0nFuvoppT9"
      },
      "source": [
        "## The Code"
      ]
    },
    {
      "cell_type": "markdown",
      "metadata": {
        "id": "q1ABUPU7L6em"
      },
      "source": [
        "### Imports"
      ]
    },
    {
      "cell_type": "code",
      "execution_count": 7,
      "metadata": {
        "colab": {
          "base_uri": "https://localhost:8080/"
        },
        "id": "Z9ue7LAviGeu",
        "outputId": "d1eb403e-f44b-436b-db40-99612fdbb6aa"
      },
      "outputs": [
        {
          "name": "stdout",
          "output_type": "stream",
          "text": [
            "Requirement already satisfied: pgmpy in c:\\users\\ashut\\appdata\\local\\programs\\python\\python39\\lib\\site-packages (0.1.24)\n",
            "Requirement already satisfied: networkx in c:\\users\\ashut\\appdata\\local\\programs\\python\\python39\\lib\\site-packages (from pgmpy) (3.1)\n",
            "Requirement already satisfied: numpy in c:\\users\\ashut\\appdata\\local\\programs\\python\\python39\\lib\\site-packages (from pgmpy) (1.25.1)\n",
            "Requirement already satisfied: scipy in c:\\users\\ashut\\appdata\\local\\programs\\python\\python39\\lib\\site-packages (from pgmpy) (1.11.2)\n",
            "Requirement already satisfied: scikit-learn in c:\\users\\ashut\\appdata\\local\\programs\\python\\python39\\lib\\site-packages (from pgmpy) (1.3.2)\n",
            "Requirement already satisfied: pandas in c:\\users\\ashut\\appdata\\local\\programs\\python\\python39\\lib\\site-packages (from pgmpy) (2.0.3)\n",
            "Requirement already satisfied: pyparsing in c:\\users\\ashut\\appdata\\local\\programs\\python\\python39\\lib\\site-packages (from pgmpy) (3.0.9)\n",
            "Requirement already satisfied: torch in c:\\users\\ashut\\appdata\\local\\programs\\python\\python39\\lib\\site-packages (from pgmpy) (2.1.1)\n",
            "Requirement already satisfied: statsmodels in c:\\users\\ashut\\appdata\\local\\programs\\python\\python39\\lib\\site-packages (from pgmpy) (0.14.0)\n",
            "Requirement already satisfied: tqdm in c:\\users\\ashut\\appdata\\local\\programs\\python\\python39\\lib\\site-packages (from pgmpy) (4.66.1)\n",
            "Requirement already satisfied: joblib in c:\\users\\ashut\\appdata\\local\\programs\\python\\python39\\lib\\site-packages (from pgmpy) (1.3.2)\n",
            "Requirement already satisfied: opt-einsum in c:\\users\\ashut\\appdata\\local\\programs\\python\\python39\\lib\\site-packages (from pgmpy) (3.3.0)\n",
            "Requirement already satisfied: python-dateutil>=2.8.2 in c:\\users\\ashut\\appdata\\roaming\\python\\python39\\site-packages (from pandas->pgmpy) (2.8.2)\n",
            "Requirement already satisfied: pytz>=2020.1 in c:\\users\\ashut\\appdata\\local\\programs\\python\\python39\\lib\\site-packages (from pandas->pgmpy) (2023.3)\n",
            "Requirement already satisfied: tzdata>=2022.1 in c:\\users\\ashut\\appdata\\local\\programs\\python\\python39\\lib\\site-packages (from pandas->pgmpy) (2023.3)\n",
            "Requirement already satisfied: threadpoolctl>=2.0.0 in c:\\users\\ashut\\appdata\\local\\programs\\python\\python39\\lib\\site-packages (from scikit-learn->pgmpy) (3.2.0)\n",
            "Requirement already satisfied: patsy>=0.5.2 in c:\\users\\ashut\\appdata\\local\\programs\\python\\python39\\lib\\site-packages (from statsmodels->pgmpy) (0.5.3)\n",
            "Requirement already satisfied: packaging>=21.3 in c:\\users\\ashut\\appdata\\roaming\\python\\python39\\site-packages (from statsmodels->pgmpy) (23.1)\n",
            "Requirement already satisfied: filelock in c:\\users\\ashut\\appdata\\local\\programs\\python\\python39\\lib\\site-packages (from torch->pgmpy) (3.13.1)\n",
            "Requirement already satisfied: typing-extensions in c:\\users\\ashut\\appdata\\roaming\\python\\python39\\site-packages (from torch->pgmpy) (4.7.1)\n",
            "Requirement already satisfied: sympy in c:\\users\\ashut\\appdata\\local\\programs\\python\\python39\\lib\\site-packages (from torch->pgmpy) (1.12)\n",
            "Requirement already satisfied: jinja2 in c:\\users\\ashut\\appdata\\local\\programs\\python\\python39\\lib\\site-packages (from torch->pgmpy) (3.1.2)\n",
            "Requirement already satisfied: fsspec in c:\\users\\ashut\\appdata\\local\\programs\\python\\python39\\lib\\site-packages (from torch->pgmpy) (2023.10.0)\n",
            "Requirement already satisfied: colorama in c:\\users\\ashut\\appdata\\roaming\\python\\python39\\site-packages (from tqdm->pgmpy) (0.4.6)\n",
            "Requirement already satisfied: six in c:\\users\\ashut\\appdata\\roaming\\python\\python39\\site-packages (from patsy>=0.5.2->statsmodels->pgmpy) (1.16.0)\n",
            "Requirement already satisfied: MarkupSafe>=2.0 in c:\\users\\ashut\\appdata\\local\\programs\\python\\python39\\lib\\site-packages (from jinja2->torch->pgmpy) (2.1.3)\n",
            "Requirement already satisfied: mpmath>=0.19 in c:\\users\\ashut\\appdata\\local\\programs\\python\\python39\\lib\\site-packages (from sympy->torch->pgmpy) (1.3.0)\n"
          ]
        },
        {
          "name": "stderr",
          "output_type": "stream",
          "text": [
            "\n",
            "[notice] A new release of pip is available: 23.2.1 -> 23.3.2\n",
            "[notice] To update, run: python.exe -m pip install --upgrade pip\n"
          ]
        }
      ],
      "source": [
        "# A Python library for probabilistic graphical models.\n",
        "!pip install pgmpy"
      ]
    },
    {
      "cell_type": "code",
      "execution_count": 8,
      "metadata": {
        "id": "i3TtxZ2SL6en"
      },
      "outputs": [],
      "source": [
        "from pgmpy.models import BayesianNetwork\n",
        "from pgmpy.factors.discrete import TabularCPD\n",
        "from pgmpy.inference import VariableElimination"
      ]
    },
    {
      "cell_type": "markdown",
      "metadata": {
        "id": "EULYS1zCLF6l"
      },
      "source": [
        "### Bayesian Network Creation using BayesianNetwork from pgmpy\n",
        "### AND\n",
        "### Defining CPDs using Tabular CPDS"
      ]
    },
    {
      "cell_type": "code",
      "execution_count": 9,
      "metadata": {
        "id": "W6DsZ9qZvD-v"
      },
      "outputs": [],
      "source": [
        "\n",
        "def create_bayesian_network():\n",
        "    # Create a Bayesian Network\n",
        "    model = BayesianNetwork([('D', 'T')])\n",
        "\n",
        "    # Define conditional probability distributions (CPDs)\n",
        "    cpd_disease = TabularCPD(variable='D', variable_card=2, values=[[0.25], [0.75]])\n",
        "    cpd_test = TabularCPD(variable='T', variable_card=2, values=[[0.99, 0.05], [0.01, 0.95]],\n",
        "                          evidence=['D'], evidence_card=[2])\n",
        "\n",
        "    # Add CPDs to the model\n",
        "    model.add_cpds(cpd_disease, cpd_test)\n",
        "\n",
        "    # Check if the model is valid\n",
        "    assert model.check_model()\n",
        "\n",
        "    return model"
      ]
    },
    {
      "cell_type": "markdown",
      "metadata": {
        "id": "zXJONO10fCBU"
      },
      "source": [
        "### Calculating Disease Bayesian Probablity"
      ]
    },
    {
      "cell_type": "code",
      "execution_count": 10,
      "metadata": {
        "id": "-BleLeI_fCBb"
      },
      "outputs": [],
      "source": [
        "def calculate_probability_of_disease(model, test_result):\n",
        "    # Create an inference object\n",
        "    inference = VariableElimination(model)\n",
        "\n",
        "    # Given the test result, calculate the probability of having the disease\n",
        "    result = inference.query(variables=['D'], evidence={'T': test_result})\n",
        "    print('-------------------------')\n",
        "    print(result)\n",
        "    print('-------------------------')\n",
        "    # Return the calculated probability\n",
        "    return result.values[1]  # Probability of having the disease (D=1)"
      ]
    },
    {
      "cell_type": "markdown",
      "metadata": {
        "id": "TYRZ-f3G6Tpj"
      },
      "source": [
        "### Main function to solve the problem"
      ]
    },
    {
      "cell_type": "code",
      "execution_count": 11,
      "metadata": {
        "colab": {
          "base_uri": "https://localhost:8080/"
        },
        "id": "VFUkDQUY6WiX",
        "outputId": "a6758d12-6d0a-45ca-e336-8f2dfe65a2f9"
      },
      "outputs": [
        {
          "name": "stdout",
          "output_type": "stream",
          "text": [
            "-------------------------\n",
            "+------+----------+\n",
            "| D    |   phi(D) |\n",
            "+======+==========+\n",
            "| D(0) |   0.0035 |\n",
            "+------+----------+\n",
            "| D(1) |   0.9965 |\n",
            "+------+----------+\n",
            "-------------------------\n",
            "Probability of having the disease given a positive test result: 0.9965\n"
          ]
        }
      ],
      "source": [
        "if __name__ == \"__main__\":\n",
        "    bayesian_network = create_bayesian_network()\n",
        "    test_result = 1  # 1 for positive test result, 0 for negative\n",
        "\n",
        "    probability = calculate_probability_of_disease(bayesian_network, test_result)\n",
        "    print(f\"Probability of having the disease given a positive test result: {probability:.4f}\")"
      ]
    }
  ],
  "metadata": {
    "colab": {
      "include_colab_link": true,
      "provenance": []
    },
    "kernelspec": {
      "display_name": "Python 3",
      "name": "python3"
    },
    "language_info": {
      "codemirror_mode": {
        "name": "ipython",
        "version": 3
      },
      "file_extension": ".py",
      "mimetype": "text/x-python",
      "name": "python",
      "nbconvert_exporter": "python",
      "pygments_lexer": "ipython3",
      "version": "3.9.6"
    }
  },
  "nbformat": 4,
  "nbformat_minor": 0
}
